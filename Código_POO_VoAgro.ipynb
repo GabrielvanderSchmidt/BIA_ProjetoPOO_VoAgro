{
  "nbformat": 4,
  "nbformat_minor": 0,
  "metadata": {
    "colab": {
      "name": "Código POO - VoAgro.ipynb",
      "provenance": []
    },
    "kernelspec": {
      "name": "python3",
      "display_name": "Python 3"
    },
    "language_info": {
      "name": "python"
    }
  },
  "cells": [
    {
      "cell_type": "markdown",
      "source": [
        "# **Projeto de POO - VoAgro**"
      ],
      "metadata": {
        "id": "iTkgPzfOlQSV"
      }
    },
    {
      "cell_type": "markdown",
      "source": [
        "# 1.   Superclasse DroneT0:"
      ],
      "metadata": {
        "id": "6-YPxlyPmXo6"
      }
    },
    {
      "cell_type": "code",
      "source": [
        "class DroneT0:\n",
        "    def __init__(self, vidwidth = 640, vidheight = 480):\n",
        "        self.frames = [] # Initializes frame list\n",
        "        \n",
        "        self.video_cap = cv2.VideoCapture(index = 0) # Creates and configures video stream\n",
        "        self.video_cap.set(propId = cv2.CAP_PROP_FRAME_WIDTH, value = vidwidth)\n",
        "        self.video_cap.set(propId = cv2.CAP_PROP_FRAME_HEIGHT, value = vidheight)\n",
        "\n",
        "        self.i = 0\n",
        "\n",
        "    def get_frame(self):\n",
        "        sucess, img = self.video_cap.read()\n",
        "        if sucess == True:\n",
        "            self.frames.append(img)\n",
        "        else:\n",
        "            print(\"Failed to capture image!\")\n",
        "\n",
        "    def save_img(self):\n",
        "        cv2.imwrite(\"root/img-%d.jpg\" % i, self.frames[0]) # Placeholder line\n",
        "        self.frames.pop[0]\n",
        "        self.i += 1"
      ],
      "metadata": {
        "id": "8zbMg3cjtmUj"
      },
      "execution_count": null,
      "outputs": []
    },
    {
      "cell_type": "markdown",
      "source": [
        "# 2.   Subclasse DroneT1 (Super de T2):"
      ],
      "metadata": {
        "id": "wZb7X5Xcmdsi"
      }
    },
    {
      "cell_type": "code",
      "source": [
        "class DroneT1(DroneT0):\n",
        "    def __init__(self, host, vidwidth = 640, vidheight = 480):\n",
        "        super().__init__(self, vidwidth, vidheight)\n",
        "\n",
        "        self.host = host\n",
        "        self.socket = create_socket(self.host) # Placeholder line\n",
        "    \n",
        "    def set_connection(self):\n",
        "        self.socket.connect() # Placeholder line\n",
        "\n",
        "    def send_data(self):\n",
        "        if self.socket.buffer_write(frame[0]): # Placeholder line\n",
        "            self.frames.pop[0]\n",
        "        else:\n",
        "            self.set_connection() # Placeholder line"
      ],
      "metadata": {
        "id": "boCd9s4incfy"
      },
      "execution_count": null,
      "outputs": []
    },
    {
      "cell_type": "markdown",
      "source": [
        "# 3.   Subclasse DroneT2:"
      ],
      "metadata": {
        "id": "ZZ6JUYAVmfmM"
      }
    },
    {
      "cell_type": "code",
      "source": [
        "class DroneT2(DroneT1):\n",
        "    def __init__(self, host, model, vidwidth = 640, vidheight = 480):\n",
        "        super().__init__(self, vidwidth, vidheight)\n",
        "\n",
        "        self.model = model\n",
        "        self.inferences = []\n",
        "\n",
        "    def send_results(self):\n",
        "        if self.socket.buffer_write(inferences[0]): # Placeholder line\n",
        "            self.inferences.pop[0]\n",
        "        else:\n",
        "            self.set_connection() # Placeholder line\n",
        "    \n",
        "    def get_inferences(self):\n",
        "        self.inferences.extend(self.model.predict(self.frames))\n",
        "        self.frames = []"
      ],
      "metadata": {
        "id": "uJROhVOhr8it"
      },
      "execution_count": null,
      "outputs": []
    },
    {
      "cell_type": "markdown",
      "source": [
        "# 4.   Classe Local_server:"
      ],
      "metadata": {
        "id": "1A6ZgpOvmiNl"
      }
    },
    {
      "cell_type": "code",
      "source": [
        "class Local_server:\n",
        "    def __init__(self, allowed_clients, model, host):\n",
        "        self.clients = allowed_clients\n",
        "        self.sockets = [create_socket(i) for i in self.clients] # Placeholder line\n",
        "        \n",
        "        self.frames = [] # Initializes frame list from clients\n",
        "        self.stitched_image = None\n",
        "\n",
        "        self.model = model\n",
        "\n",
        "        self.inferences = []\n",
        "\n",
        "        self.host = host\n",
        "        self.host_socket = create_socket(host) # Placeholder line\n",
        "\n",
        "    def listen(self):\n",
        "        # Asynchronous method\n",
        "        for socket in self.sockets: # Placeholder block\n",
        "            if socket.listen() == True:\n",
        "                socket.accept()\n",
        "\n",
        "    def receive_data(self, socket):\n",
        "        success, data = socket.buffer_read() # Placeholder line\n",
        "        if success == True:\n",
        "            if type(data) == \"frames\": # Placeholder block\n",
        "                self.frames.extend(data) # if data requires no conversion into a list of frames\n",
        "                # else, convert and then append/extend\n",
        "            elif type(data) == \"inferences\": # Placeholder block\n",
        "                self.inferences.extend(data) # idem\n",
        "            else:\n",
        "                print(\"Data type invalid. No data read.\")\n",
        "        else:\n",
        "            print(\"Buffer_read unsuccessful. No data read.\")\n",
        "\n",
        "    def stitch_images(self):\n",
        "        self.stiched_image = stitching_algorithm(self.frames) # Placeholder line\n",
        "        self.frames = []\n",
        "\n",
        "    def get_inferences(self):\n",
        "        self.inferences.extend(self.model.predict(self.stiched_image))\n",
        "        #print(predictions)\n",
        "\n",
        "    def send_data(self): # WIP\n",
        "        pass"
      ],
      "metadata": {
        "id": "OI36IJzrmtUw"
      },
      "execution_count": null,
      "outputs": []
    },
    {
      "cell_type": "markdown",
      "source": [
        "# 5.   Classe Application:"
      ],
      "metadata": {
        "id": "ZwnQMjFCml8H"
      }
    },
    {
      "cell_type": "code",
      "source": [
        "class Application:\n",
        "    def __init__(self, bg_img_path, server):\n",
        "        self.bg_image = cv2.imread(bg_img_path)\n",
        "        self.grid = None # Placeholder line\n",
        "\n",
        "        self.inferences []\n",
        "        self.server = server\n",
        "        self.socket = create_socket(self.server) # Placeholder line\n",
        "        \n",
        "        draw_interface()\n",
        "\n",
        "    def draw_interface(self): # WIP\n",
        "        pass\n",
        "    \n",
        "    def set_connection(self):\n",
        "        self.socket.connect # Placeholder line\n",
        "    \n",
        "    def receive_data(self):\n",
        "        success, data = self.socket.buffer_read() # Placeholder line\n",
        "        if success == True:\n",
        "            self.inferences.extend(data)\n",
        "        else:\n",
        "            print(\"Buffer_read unsuccessful. No data read.\")\n",
        "    \n",
        "    def draw_inferences(self):\n",
        "        for inference in self.inferences: # Placeholder block\n",
        "            draw_on_screeen(inferene)\n",
        "    \n",
        "    def update(self): # WIP\n",
        "        pass"
      ],
      "metadata": {
        "id": "ZNXYZ-UevAW8"
      },
      "execution_count": null,
      "outputs": []
    }
  ]
}